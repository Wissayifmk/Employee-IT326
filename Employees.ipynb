{
 "cells": [
  {
   "cell_type": "markdown",
   "id": "0c95b497",
   "metadata": {},
   "source": [
    "Our main goal in collecting the Arab Employee dataset is to learn more about what affects how much Arab professionals get paid. We want to gather information about their qualifications, where they live, and how much experience they have. This data will help organizations and policymakers make better decisions about managing talent, planning for the future workforce, and making sure pay is fair in the Arab region.\n",
    "\n",
    "Here are two specific goals we have for this dataset:\n",
    "\n",
    "1. Classification Goal:\n",
    "We want to group employees into different categories based on their qualifications, country location, and experience. By doing this, we can see patterns and trends among different groups. This will help us understand if there are differences in pay based on qualifications and experience, and it will help us identify talented individuals. With this information, we can develop strategies to support career growth and make sure people are being paid fairly.\n",
    "\n",
    "2. Defect Prediction Goal:\n",
    "We want to use machine learning and statistical techniques to create models that can predict any issues or anomalies with employee salaries. This could include things like unfair pay practices, wage gaps, or differences based on qualifications or experience. By catching these problems early, we can fix them and make sure everyone is being treated fairly. This analysis will help us improve compensation policies and make better decisions about managing talent.\n",
    "\n",
    "By achieving these goals, we can:\n",
    "\n",
    "- Understand how salaries are distributed among different employee groups.\n",
    "- Identify any biases or unfairness in pay based on qualifications, experience, or location.\n",
    "- Develop strategies for hiring, developing, and keeping talented employees.\n",
    "- Make sure pay practices are fair and transparent.\n",
    "- Catch and fix salary-related issues before they become bigger problems.\n",
    "- Plan for the future workforce and allocate resources effectively.\n",
    "- Make better decisions about pay and talent management in the Arab region.\n",
    "\n",
    "Overall, collecting the Arab Employee dataset with information about salary, qualifications, location, and experience is really important. It will help us analyze the data and make fair decisions that create a good working environment for Arab professionals.\n",
    "Source of the dataset:Kaggle\n",
    "link of the dataset:\n",
    "https://www.kaggle.com/datasets/qusaybtoush1990/employes\n",
    "\n",
    "class lables: Salary"
   ]
  },
  {
   "cell_type": "markdown",
   "id": "07d2c7b0",
   "metadata": {},
   "source": [
    "|Attributes name|Description                      |Data type|Possible values                     |\n",
    "|---------------|---------------------------------|---------|------------------------------------|\n",
    "|ID             |employee id                      |binary   |6 values                            |\n",
    "|Education      |education level for the employee |string   |prof-doctor-Bachelor...             |\n",
    "|Department     |department that employee works in|String   |FSL-NEI-IT...                       |\n",
    "|Job status     |employment situation             |String   |Full time-part time-cotract         |\n",
    "|Location       |the location of the job          |String   |saudi arabia-United Arab Emirates...|\n",
    "|Start date     |date to start the job            |datetime |7Jan11-1Jan20                       |\n",
    "|Years          |years of work                    |decimal  |0-9                                 |\n",
    "|Salary         |salary of the employee           |decimal  |650-25000                           |\n",
    "|Job rate       |employee evaluation              |decimal  |1-13                                |\n",
    "|Permission     |the access rights and privileges |decimal  |1-14                                |"
   ]
  }
 ],
 "metadata": {
  "kernelspec": {
   "display_name": "R",
   "language": "R",
   "name": "ir"
  },
  "language_info": {
   "codemirror_mode": "r",
   "file_extension": ".r",
   "mimetype": "text/x-r-source",
   "name": "R",
   "pygments_lexer": "r",
   "version": "3.6.1"
  }
 },
 "nbformat": 4,
 "nbformat_minor": 5
}
